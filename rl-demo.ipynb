{
 "cells": [
  {
   "cell_type": "markdown",
   "metadata": {},
   "source": [
    "### RL sequence in gym/openai\n",
    "---"
   ]
  },
  {
   "cell_type": "markdown",
   "metadata": {},
   "source": [
    "Each environment has a `step` function.\n",
    "\n",
    "`step` returns four values:\n",
    "\n",
    "+ An _object_ `observation`: an environment-specific object representing your observation of the environment.\n",
    "+ A _float_ `reward`: amount of reward achieved by the previous action.\n",
    "+ A _boolean_ `done`: has the environment reached the end of a well-defined episode? If so, reset.\n",
    "+ A _dict_ `info`: diagnostic data for debugging.\n",
    "\n",
    "![](https://storage.googleapis.com/code.blinkanalytics.com/action_reward.png)"
   ]
  },
  {
   "cell_type": "markdown",
   "metadata": {},
   "source": [
    "This is very close to the [SARSA](https://en.wikipedia.org/wiki/State-Action-Reward-State-Action) algorithm. Link goes to the Wiki page."
   ]
  },
  {
   "cell_type": "markdown",
   "metadata": {},
   "source": [
    "### This may be worth a brief detour to take a look at how SARSA works..."
   ]
  },
  {
   "cell_type": "markdown",
   "metadata": {},
   "source": [
    "_Pseudo-implementation of SARSA-Max, for reference_"
   ]
  },
  {
   "cell_type": "code",
   "execution_count": null,
   "metadata": {
    "collapsed": false
   },
   "outputs": [],
   "source": [
    "# Say we have broken the environment into an episodic list of some kind\n",
    "episodes = []\n",
    "\n",
    "# We first initialize Q(s, a) to an arbitrary starting condition.\n",
    "init_Q(s, a)\n",
    "\n",
    "for e in episodes:\n",
    "    init_s()\n",
    "    for step in e:\n",
    "        choose_action(a, s, some_policy) # derived from Q. Could be epsilon-greedy, softmax etc.\n",
    "        execute_a(), observe(r, s_prime)\n",
    "        update_Q() # <- this is the interesting bit. See below.\n",
    "        update_s()\n",
    "        if s == terminal():\n",
    "            break"
   ]
  },
  {
   "cell_type": "markdown",
   "metadata": {},
   "source": [
    "#### How do Q-values get updated?"
   ]
  },
  {
   "cell_type": "markdown",
   "metadata": {},
   "source": [
    "$$ Q(s, \\ a), \\leftarrow Q(s, \\ a) + \\alpha [r + \\gamma max_a,Q(s \\prime, \\ a \\prime) - Q(s, \\ a)]$$\n",
    "\n",
    "Where: \n",
    "\n",
    "$\\alpha$ is a learning rate between 0 and 1.\n",
    "\n",
    "$\\gamma$ is a discount factor between 0 and 1. Future rewards are worth less than immediate rewards.\n",
    "\n",
    "$max_a$ is the maximum reward that is attainable in the next state."
   ]
  },
  {
   "cell_type": "markdown",
   "metadata": {},
   "source": [
    "### So that is SARSA, and some basic RL theory. Back to gym and universe..."
   ]
  },
  {
   "cell_type": "markdown",
   "metadata": {},
   "source": [
    "### gym demo\n",
    "---"
   ]
  },
  {
   "cell_type": "code",
   "execution_count": null,
   "metadata": {
    "collapsed": false,
    "scrolled": true
   },
   "outputs": [],
   "source": [
    "import gym\n",
    "env = gym.make('CartPole-v0')\n",
    "for i_episode in range(20):\n",
    "    observation = env.reset()\n",
    "    for t in range(100):\n",
    "        env.render()\n",
    "        print(observation)\n",
    "        action = env.action_space.sample()\n",
    "        observation, reward, done, info = env.step(action)\n",
    "        if done:\n",
    "            print(\"Episode finished after {} timesteps\".format(t+1))\n",
    "            break"
   ]
  },
  {
   "cell_type": "markdown",
   "metadata": {},
   "source": [
    "### universe demo\n",
    "---"
   ]
  },
  {
   "cell_type": "code",
   "execution_count": null,
   "metadata": {
    "collapsed": false
   },
   "outputs": [],
   "source": [
    "import gym\n",
    "import universe\n",
    "\n",
    "env = gym.make('flashgames.DuskDrive-v0')\n",
    "env.configure(remotes=1)\n",
    "observation_n = env.reset()\n",
    "\n",
    "while True:\n",
    "  action_n = [[('KeyEvent', 'ArrowUp', True)] for ob in observation_n]  # your agent here\n",
    "  observation_n, reward_n, done_n, info = env.step(action_n)\n",
    "  env.render()"
   ]
  }
 ],
 "metadata": {
  "kernelspec": {
   "display_name": "Python 3",
   "language": "python",
   "name": "python3"
  },
  "language_info": {
   "codemirror_mode": {
    "name": "ipython",
    "version": 3
   },
   "file_extension": ".py",
   "mimetype": "text/x-python",
   "name": "python",
   "nbconvert_exporter": "python",
   "pygments_lexer": "ipython3",
   "version": "3.6.0"
  }
 },
 "nbformat": 4,
 "nbformat_minor": 2
}
